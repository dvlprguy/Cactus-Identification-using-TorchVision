{
 "cells": [
  {
   "cell_type": "code",
   "execution_count": 1,
   "metadata": {
    "_cell_guid": "b1076dfc-b9ad-4769-8c92-a6c4dae69d19",
    "_uuid": "8f2839f25d086af736a60e9eeb907d3b93b6e0e5"
   },
   "outputs": [
    {
     "name": "stdout",
     "output_type": "stream",
     "text": [
      "/kaggle/input/aerial-cactus-identification/train.csv\n",
      "/kaggle/input/aerial-cactus-identification/train.zip\n",
      "/kaggle/input/aerial-cactus-identification/sample_submission.csv\n",
      "/kaggle/input/aerial-cactus-identification/test.zip\n"
     ]
    }
   ],
   "source": [
    "# This Python 3 environment comes with many helpful analytics libraries installed\n",
    "# It is defined by the kaggle/python docker image: https://github.com/kaggle/docker-python\n",
    "# For example, here's several helpful packages to load in \n",
    "\n",
    "import numpy as np # linear algebra\n",
    "import pandas as pd # data processing, CSV file I/O (e.g. pd.read_csv)\n",
    "\n",
    "# Input data files are available in the \"../input/\" directory.\n",
    "# For example, running this (by clicking run or pressing Shift+Enter) will list all files under the input directory\n",
    "\n",
    "import os\n",
    "import shutil\n",
    "for dirname, _, filenames in os.walk('/kaggle/input'):\n",
    "    for filename in filenames:\n",
    "        print(os.path.join(dirname, filename))\n",
    "\n",
    "# Any results you write to the current directory are saved as output."
   ]
  },
  {
   "cell_type": "code",
   "execution_count": 2,
   "metadata": {
    "_cell_guid": "79c7e3d0-c299-4dcb-8224-4455121ee9b0",
    "_uuid": "d629ff2d2480ee46fbb7e2d37f6b5fab8052498a"
   },
   "outputs": [],
   "source": [
    "import zipfile\n",
    "with zipfile.ZipFile(\"/kaggle/input/aerial-cactus-identification/train.zip\",\"r\") as zip_ref:\n",
    "    zip_ref.extractall(\"./\")"
   ]
  },
  {
   "cell_type": "code",
   "execution_count": 3,
   "metadata": {},
   "outputs": [],
   "source": [
    "with zipfile.ZipFile(\"/kaggle/input/aerial-cactus-identification/test.zip\",\"r\") as zip_ref:\n",
    "    zip_ref.extractall(\"./\")"
   ]
  },
  {
   "cell_type": "code",
   "execution_count": 4,
   "metadata": {},
   "outputs": [
    {
     "name": "stdout",
     "output_type": "stream",
     "text": [
      "cuda:0\n"
     ]
    }
   ],
   "source": [
    "import torch\n",
    "import torch.nn as nn\n",
    "import torch.nn.functional as F\n",
    "import torchvision\n",
    "import torch.optim as optim\n",
    "import cv2\n",
    "import torchvision.transforms as transforms\n",
    "from sklearn.model_selection import train_test_split\n",
    "from torch.utils.data import TensorDataset, DataLoader, Dataset\n",
    "device = torch.device(\"cuda:0\" if torch.cuda.is_available() else \"cpu\")\n",
    "print(device)"
   ]
  },
  {
   "cell_type": "code",
   "execution_count": 5,
   "metadata": {},
   "outputs": [
    {
     "data": {
      "text/html": [
       "<div>\n",
       "<style scoped>\n",
       "    .dataframe tbody tr th:only-of-type {\n",
       "        vertical-align: middle;\n",
       "    }\n",
       "\n",
       "    .dataframe tbody tr th {\n",
       "        vertical-align: top;\n",
       "    }\n",
       "\n",
       "    .dataframe thead th {\n",
       "        text-align: right;\n",
       "    }\n",
       "</style>\n",
       "<table border=\"1\" class=\"dataframe\">\n",
       "  <thead>\n",
       "    <tr style=\"text-align: right;\">\n",
       "      <th></th>\n",
       "      <th>id</th>\n",
       "      <th>has_cactus</th>\n",
       "    </tr>\n",
       "  </thead>\n",
       "  <tbody>\n",
       "    <tr>\n",
       "      <th>0</th>\n",
       "      <td>0004be2cfeaba1c0361d39e2b000257b.jpg</td>\n",
       "      <td>1</td>\n",
       "    </tr>\n",
       "    <tr>\n",
       "      <th>1</th>\n",
       "      <td>000c8a36845c0208e833c79c1bffedd1.jpg</td>\n",
       "      <td>1</td>\n",
       "    </tr>\n",
       "    <tr>\n",
       "      <th>2</th>\n",
       "      <td>000d1e9a533f62e55c289303b072733d.jpg</td>\n",
       "      <td>1</td>\n",
       "    </tr>\n",
       "    <tr>\n",
       "      <th>3</th>\n",
       "      <td>0011485b40695e9138e92d0b3fb55128.jpg</td>\n",
       "      <td>1</td>\n",
       "    </tr>\n",
       "    <tr>\n",
       "      <th>4</th>\n",
       "      <td>0014d7a11e90b62848904c1418fc8cf2.jpg</td>\n",
       "      <td>1</td>\n",
       "    </tr>\n",
       "  </tbody>\n",
       "</table>\n",
       "</div>"
      ],
      "text/plain": [
       "                                     id  has_cactus\n",
       "0  0004be2cfeaba1c0361d39e2b000257b.jpg           1\n",
       "1  000c8a36845c0208e833c79c1bffedd1.jpg           1\n",
       "2  000d1e9a533f62e55c289303b072733d.jpg           1\n",
       "3  0011485b40695e9138e92d0b3fb55128.jpg           1\n",
       "4  0014d7a11e90b62848904c1418fc8cf2.jpg           1"
      ]
     },
     "execution_count": 5,
     "metadata": {},
     "output_type": "execute_result"
    }
   ],
   "source": [
    "df=pd.read_csv(\"/kaggle/input/aerial-cactus-identification/train.csv\")\n",
    "df.head()"
   ]
  },
  {
   "cell_type": "code",
   "execution_count": 6,
   "metadata": {},
   "outputs": [
    {
     "data": {
      "text/html": [
       "<div>\n",
       "<style scoped>\n",
       "    .dataframe tbody tr th:only-of-type {\n",
       "        vertical-align: middle;\n",
       "    }\n",
       "\n",
       "    .dataframe tbody tr th {\n",
       "        vertical-align: top;\n",
       "    }\n",
       "\n",
       "    .dataframe thead th {\n",
       "        text-align: right;\n",
       "    }\n",
       "</style>\n",
       "<table border=\"1\" class=\"dataframe\">\n",
       "  <thead>\n",
       "    <tr style=\"text-align: right;\">\n",
       "      <th></th>\n",
       "      <th>has_cactus</th>\n",
       "    </tr>\n",
       "  </thead>\n",
       "  <tbody>\n",
       "    <tr>\n",
       "      <th>count</th>\n",
       "      <td>17500.000000</td>\n",
       "    </tr>\n",
       "    <tr>\n",
       "      <th>mean</th>\n",
       "      <td>0.750629</td>\n",
       "    </tr>\n",
       "    <tr>\n",
       "      <th>std</th>\n",
       "      <td>0.432662</td>\n",
       "    </tr>\n",
       "    <tr>\n",
       "      <th>min</th>\n",
       "      <td>0.000000</td>\n",
       "    </tr>\n",
       "    <tr>\n",
       "      <th>25%</th>\n",
       "      <td>1.000000</td>\n",
       "    </tr>\n",
       "    <tr>\n",
       "      <th>50%</th>\n",
       "      <td>1.000000</td>\n",
       "    </tr>\n",
       "    <tr>\n",
       "      <th>75%</th>\n",
       "      <td>1.000000</td>\n",
       "    </tr>\n",
       "    <tr>\n",
       "      <th>max</th>\n",
       "      <td>1.000000</td>\n",
       "    </tr>\n",
       "  </tbody>\n",
       "</table>\n",
       "</div>"
      ],
      "text/plain": [
       "         has_cactus\n",
       "count  17500.000000\n",
       "mean       0.750629\n",
       "std        0.432662\n",
       "min        0.000000\n",
       "25%        1.000000\n",
       "50%        1.000000\n",
       "75%        1.000000\n",
       "max        1.000000"
      ]
     },
     "execution_count": 6,
     "metadata": {},
     "output_type": "execute_result"
    }
   ],
   "source": [
    "df.describe()"
   ]
  },
  {
   "cell_type": "code",
   "execution_count": 7,
   "metadata": {},
   "outputs": [
    {
     "data": {
      "text/html": [
       "<div>\n",
       "<style scoped>\n",
       "    .dataframe tbody tr th:only-of-type {\n",
       "        vertical-align: middle;\n",
       "    }\n",
       "\n",
       "    .dataframe tbody tr th {\n",
       "        vertical-align: top;\n",
       "    }\n",
       "\n",
       "    .dataframe thead th {\n",
       "        text-align: right;\n",
       "    }\n",
       "</style>\n",
       "<table border=\"1\" class=\"dataframe\">\n",
       "  <thead>\n",
       "    <tr style=\"text-align: right;\">\n",
       "      <th></th>\n",
       "      <th>id</th>\n",
       "      <th>has_cactus</th>\n",
       "    </tr>\n",
       "  </thead>\n",
       "  <tbody>\n",
       "    <tr>\n",
       "      <th>0</th>\n",
       "      <td>000940378805c44108d287872b2f04ce.jpg</td>\n",
       "      <td>0.5</td>\n",
       "    </tr>\n",
       "    <tr>\n",
       "      <th>1</th>\n",
       "      <td>0017242f54ececa4512b4d7937d1e21e.jpg</td>\n",
       "      <td>0.5</td>\n",
       "    </tr>\n",
       "    <tr>\n",
       "      <th>2</th>\n",
       "      <td>001ee6d8564003107853118ab87df407.jpg</td>\n",
       "      <td>0.5</td>\n",
       "    </tr>\n",
       "    <tr>\n",
       "      <th>3</th>\n",
       "      <td>002e175c3c1e060769475f52182583d0.jpg</td>\n",
       "      <td>0.5</td>\n",
       "    </tr>\n",
       "    <tr>\n",
       "      <th>4</th>\n",
       "      <td>0036e44a7e8f7218e9bc7bf8137e4943.jpg</td>\n",
       "      <td>0.5</td>\n",
       "    </tr>\n",
       "  </tbody>\n",
       "</table>\n",
       "</div>"
      ],
      "text/plain": [
       "                                     id  has_cactus\n",
       "0  000940378805c44108d287872b2f04ce.jpg         0.5\n",
       "1  0017242f54ececa4512b4d7937d1e21e.jpg         0.5\n",
       "2  001ee6d8564003107853118ab87df407.jpg         0.5\n",
       "3  002e175c3c1e060769475f52182583d0.jpg         0.5\n",
       "4  0036e44a7e8f7218e9bc7bf8137e4943.jpg         0.5"
      ]
     },
     "execution_count": 7,
     "metadata": {},
     "output_type": "execute_result"
    }
   ],
   "source": [
    "tdf=pd.read_csv(\"/kaggle/input/aerial-cactus-identification/sample_submission.csv\")\n",
    "tdf.head()"
   ]
  },
  {
   "cell_type": "code",
   "execution_count": 8,
   "metadata": {},
   "outputs": [
    {
     "data": {
      "text/html": [
       "<div>\n",
       "<style scoped>\n",
       "    .dataframe tbody tr th:only-of-type {\n",
       "        vertical-align: middle;\n",
       "    }\n",
       "\n",
       "    .dataframe tbody tr th {\n",
       "        vertical-align: top;\n",
       "    }\n",
       "\n",
       "    .dataframe thead th {\n",
       "        text-align: right;\n",
       "    }\n",
       "</style>\n",
       "<table border=\"1\" class=\"dataframe\">\n",
       "  <thead>\n",
       "    <tr style=\"text-align: right;\">\n",
       "      <th></th>\n",
       "      <th>has_cactus</th>\n",
       "    </tr>\n",
       "  </thead>\n",
       "  <tbody>\n",
       "    <tr>\n",
       "      <th>count</th>\n",
       "      <td>17500.000000</td>\n",
       "    </tr>\n",
       "    <tr>\n",
       "      <th>mean</th>\n",
       "      <td>0.750629</td>\n",
       "    </tr>\n",
       "    <tr>\n",
       "      <th>std</th>\n",
       "      <td>0.432662</td>\n",
       "    </tr>\n",
       "    <tr>\n",
       "      <th>min</th>\n",
       "      <td>0.000000</td>\n",
       "    </tr>\n",
       "    <tr>\n",
       "      <th>25%</th>\n",
       "      <td>1.000000</td>\n",
       "    </tr>\n",
       "    <tr>\n",
       "      <th>50%</th>\n",
       "      <td>1.000000</td>\n",
       "    </tr>\n",
       "    <tr>\n",
       "      <th>75%</th>\n",
       "      <td>1.000000</td>\n",
       "    </tr>\n",
       "    <tr>\n",
       "      <th>max</th>\n",
       "      <td>1.000000</td>\n",
       "    </tr>\n",
       "  </tbody>\n",
       "</table>\n",
       "</div>"
      ],
      "text/plain": [
       "         has_cactus\n",
       "count  17500.000000\n",
       "mean       0.750629\n",
       "std        0.432662\n",
       "min        0.000000\n",
       "25%        1.000000\n",
       "50%        1.000000\n",
       "75%        1.000000\n",
       "max        1.000000"
      ]
     },
     "execution_count": 8,
     "metadata": {},
     "output_type": "execute_result"
    }
   ],
   "source": [
    "df.describe()"
   ]
  },
  {
   "cell_type": "code",
   "execution_count": 9,
   "metadata": {},
   "outputs": [],
   "source": [
    "transform=transforms.Compose([transforms.ToPILImage(),transforms.ToTensor(),transforms.Normalize((0.5,0.5,0.5),(0.5,0.5,0.5))])"
   ]
  },
  {
   "cell_type": "code",
   "execution_count": 10,
   "metadata": {},
   "outputs": [],
   "source": [
    "num_epochs=25\n",
    "num_classes=2\n",
    "batch_size=128\n",
    "learning_rate=0.001\n"
   ]
  },
  {
   "cell_type": "code",
   "execution_count": 11,
   "metadata": {},
   "outputs": [],
   "source": [
    "train,val=train_test_split(df,test_size=0.1)"
   ]
  },
  {
   "cell_type": "code",
   "execution_count": 12,
   "metadata": {},
   "outputs": [
    {
     "data": {
      "text/plain": [
       "((15750, 2), (1750, 2))"
      ]
     },
     "execution_count": 12,
     "metadata": {},
     "output_type": "execute_result"
    }
   ],
   "source": [
    "train.shape,val.shape"
   ]
  },
  {
   "cell_type": "code",
   "execution_count": 13,
   "metadata": {},
   "outputs": [],
   "source": [
    "class mydata(Dataset):\n",
    "    def __init__(self,dfdata,data_dir,transform=None):\n",
    "        super().__init__()\n",
    "        self.df=dfdata.values\n",
    "        self.data_dir=data_dir\n",
    "        self.transform=transform\n",
    "        \n",
    "    def __len__(self):\n",
    "        return len(self.df)\n",
    "    \n",
    "    def __getitem__(self,index):\n",
    "        img_name,label=self.df[index]\n",
    "        img_path=os.path.join(self.data_dir,img_name)\n",
    "        image=cv2.imread(img_path)\n",
    "        if self.transform is not None:\n",
    "            image=self.transform(image)\n",
    "        return image,label\n",
    "\n",
    "\n",
    "        \n",
    "    "
   ]
  },
  {
   "cell_type": "code",
   "execution_count": 14,
   "metadata": {},
   "outputs": [],
   "source": [
    "train_data=mydata(train,\"./train/\",transform)\n",
    "test_data=mydata(val,\"./train/\",transform)\n",
    "\n",
    "train_loader=DataLoader(dataset=train_data,batch_size=batch_size,shuffle=True,num_workers=2)\n",
    "test_loader=DataLoader(dataset=test_data,batch_size=batch_size//2,shuffle=False,num_workers=2)\n"
   ]
  },
  {
   "cell_type": "code",
   "execution_count": 15,
   "metadata": {},
   "outputs": [
    {
     "data": {
      "text/plain": [
       "(tensor([[[-0.3176, -0.1216, -0.0980,  ...,  0.2706,  0.2000,  0.1922],\n",
       "          [-0.1608,  0.0039,  0.0667,  ...,  0.2078,  0.2235,  0.3098],\n",
       "          [-0.2627, -0.1137,  0.1059,  ...,  0.2000,  0.2078,  0.3020],\n",
       "          ...,\n",
       "          [ 0.0353,  0.0667, -0.0118,  ..., -0.2392, -0.3020, -0.2471],\n",
       "          [-0.0353, -0.0039, -0.0588,  ..., -0.2392, -0.2157, -0.2863],\n",
       "          [-0.0118,  0.0118, -0.0667,  ..., -0.1922, -0.0118, -0.1529]],\n",
       " \n",
       "         [[-0.2235, -0.0275, -0.0039,  ...,  0.2549,  0.1686,  0.1608],\n",
       "          [-0.0667,  0.0980,  0.1608,  ...,  0.1922,  0.1922,  0.2784],\n",
       "          [-0.1686, -0.0196,  0.2000,  ...,  0.1843,  0.1922,  0.2863],\n",
       "          ...,\n",
       "          [ 0.1765,  0.2078,  0.1294,  ..., -0.0980, -0.1608, -0.1059],\n",
       "          [ 0.1059,  0.1373,  0.0824,  ..., -0.0980, -0.0745, -0.1451],\n",
       "          [ 0.1294,  0.1529,  0.0745,  ..., -0.0510,  0.1294, -0.0118]],\n",
       " \n",
       "         [[-0.1294,  0.0667,  0.0902,  ...,  0.3490,  0.2627,  0.2549],\n",
       "          [ 0.0275,  0.1922,  0.2549,  ...,  0.2863,  0.2863,  0.3725],\n",
       "          [-0.0745,  0.0745,  0.2941,  ...,  0.2784,  0.2863,  0.3804],\n",
       "          ...,\n",
       "          [ 0.2314,  0.2627,  0.1843,  ..., -0.0431, -0.1059, -0.0510],\n",
       "          [ 0.1608,  0.1922,  0.1373,  ..., -0.0431, -0.0196, -0.0902],\n",
       "          [ 0.1843,  0.2078,  0.1294,  ...,  0.0039,  0.1843,  0.0431]]]), 0)"
      ]
     },
     "execution_count": 15,
     "metadata": {},
     "output_type": "execute_result"
    }
   ],
   "source": [
    "test_data[1]"
   ]
  },
  {
   "cell_type": "code",
   "execution_count": 16,
   "metadata": {},
   "outputs": [],
   "source": [
    "class Net(nn.Module):\n",
    "    def __init__(self):\n",
    "        super(Net,self).__init__()\n",
    "        \n",
    "        self.pool = nn.MaxPool2d(2, 2)\n",
    "        self.conv1=nn.Conv2d(3,32,2,padding=2)\n",
    "        self.bn1=nn.BatchNorm2d(32)\n",
    "        self.conv2=nn.Conv2d(32,64,2,padding=2)\n",
    "        self.bn2=nn.BatchNorm2d(64)\n",
    "        self.conv3=nn.Conv2d(64,128,2,padding=2)\n",
    "        self.bn3=nn.BatchNorm2d(128)\n",
    "        self.conv4=nn.Conv2d(128,256,2,padding=2)\n",
    "        self.bn4=nn.BatchNorm2d(256)\n",
    "        self.conv5=nn.Conv2d(256,512,2,padding=2)\n",
    "        self.bn5=nn.BatchNorm2d(512)\n",
    "        self.fc1=nn.Linear(512*3*3,2)\n",
    "        \n",
    "    def forward(self,x):\n",
    "        x=self.pool(F.relu(self.bn1(self.conv1(x))))\n",
    "        x=self.pool(F.relu(self.bn2(self.conv2(x))))\n",
    "        x=self.pool(F.relu(self.bn3(self.conv3(x))))\n",
    "        x=self.pool(F.relu(self.bn4(self.conv4(x))))\n",
    "        x=self.pool(F.relu(self.bn5(self.conv5(x))))\n",
    "#         print(x.shape)\n",
    "        x=x.view(-1,512*3*3)\n",
    "        x=self.fc1(x)\n",
    "        return x\n",
    "    \n",
    "        "
   ]
  },
  {
   "cell_type": "code",
   "execution_count": 17,
   "metadata": {},
   "outputs": [],
   "source": [
    "net=Net().to(device)"
   ]
  },
  {
   "cell_type": "code",
   "execution_count": 18,
   "metadata": {},
   "outputs": [],
   "source": [
    "criterion=nn.CrossEntropyLoss()\n",
    "optimizer=optim.Adam(net.parameters(),lr=learning_rate)"
   ]
  },
  {
   "cell_type": "code",
   "execution_count": 19,
   "metadata": {},
   "outputs": [
    {
     "name": "stdout",
     "output_type": "stream",
     "text": [
      "Epoch:[1/25] step:[100/124] loss: 0.1228\n",
      "Epoch:[2/25] step:[100/124] loss: 0.0446\n",
      "Epoch:[3/25] step:[100/124] loss: 0.0224\n",
      "Epoch:[4/25] step:[100/124] loss: 0.0339\n",
      "Epoch:[5/25] step:[100/124] loss: 0.0163\n",
      "Epoch:[6/25] step:[100/124] loss: 0.0412\n",
      "Epoch:[7/25] step:[100/124] loss: 0.0074\n",
      "Epoch:[8/25] step:[100/124] loss: 0.0035\n",
      "Epoch:[9/25] step:[100/124] loss: 0.0551\n",
      "Epoch:[10/25] step:[100/124] loss: 0.0015\n",
      "Epoch:[11/25] step:[100/124] loss: 0.0489\n",
      "Epoch:[12/25] step:[100/124] loss: 0.0038\n",
      "Epoch:[13/25] step:[100/124] loss: 0.0034\n",
      "Epoch:[14/25] step:[100/124] loss: 0.0011\n",
      "Epoch:[15/25] step:[100/124] loss: 0.0004\n",
      "Epoch:[16/25] step:[100/124] loss: 0.0003\n",
      "Epoch:[17/25] step:[100/124] loss: 0.0011\n",
      "Epoch:[18/25] step:[100/124] loss: 0.0011\n",
      "Epoch:[19/25] step:[100/124] loss: 0.0597\n",
      "Epoch:[20/25] step:[100/124] loss: 0.0088\n",
      "Epoch:[21/25] step:[100/124] loss: 0.0019\n",
      "Epoch:[22/25] step:[100/124] loss: 0.0076\n",
      "Epoch:[23/25] step:[100/124] loss: 0.0000\n",
      "Epoch:[24/25] step:[100/124] loss: 0.0000\n",
      "Epoch:[25/25] step:[100/124] loss: 0.0003\n"
     ]
    }
   ],
   "source": [
    "total_step=len(train_loader)\n",
    "for epoch in range(num_epochs):\n",
    "    for i,(images,labels) in enumerate(train_loader):\n",
    "        images=images.to(device)\n",
    "        labels=labels.to(device)\n",
    "        \n",
    "        outputs=net(images)\n",
    "        loss=criterion(outputs,labels)\n",
    "        \n",
    "        optimizer.zero_grad()\n",
    "        loss.backward()\n",
    "        optimizer.step()\n",
    "        \n",
    "        if (i+1)%100==0:\n",
    "            print('Epoch:[{}/{}] step:[{}/{}] loss: {:.4f}'.format(epoch+1,num_epochs,i+1,total_step,loss.item()))"
   ]
  },
  {
   "cell_type": "code",
   "execution_count": 20,
   "metadata": {},
   "outputs": [
    {
     "name": "stdout",
     "output_type": "stream",
     "text": [
      "acc=  99.54285714285714\n"
     ]
    }
   ],
   "source": [
    "net.eval()\n",
    "with torch.no_grad():\n",
    "    correct=0\n",
    "    total=0\n",
    "    for images,labels in test_loader:\n",
    "        images=images.to(device)\n",
    "        labels=labels.to(device)\n",
    "        outputs=net(images)\n",
    "        _,predicted=torch.max(outputs.data,1)\n",
    "        total+=labels.size(0)\n",
    "        correct+=(predicted==labels).sum().item()\n",
    "        \n",
    "    print(\"acc= \",100*(correct/total))\n",
    "    \n",
    "\n",
    "\n",
    "torch.save(net.state_dict(),'model.ckpt')\n",
    "\n"
   ]
  },
  {
   "cell_type": "code",
   "execution_count": 21,
   "metadata": {},
   "outputs": [],
   "source": [
    "sub_dataset=mydata(tdf,'./test/',transform)\n",
    "sub_loader=DataLoader(dataset=sub_dataset,batch_size=32,shuffle=False,num_workers=0)\n"
   ]
  },
  {
   "cell_type": "code",
   "execution_count": 22,
   "metadata": {},
   "outputs": [],
   "source": [
    "net.eval()\n",
    "\n",
    "preds=[]\n",
    "for batch_i,(data,target) in enumerate(sub_loader):\n",
    "    data,target=data.to(device),target.to(device)\n",
    "    output=net(data)\n",
    "    pr=output[:,1].detach().cpu().numpy()\n",
    "    for i in pr:\n",
    "        preds.append(i)\n",
    "    \n",
    "\n",
    "tdf['has_cactus']=preds\n",
    "tdf.to_csv('submission.csv',index=False)"
   ]
  },
  {
   "cell_type": "code",
   "execution_count": 23,
   "metadata": {},
   "outputs": [],
   "source": [
    "shutil.rmtree('./test')\n",
    "shutil.rmtree('./train')"
   ]
  }
 ],
 "metadata": {
  "kernelspec": {
   "display_name": "Python 3",
   "language": "python",
   "name": "python3"
  },
  "language_info": {
   "codemirror_mode": {
    "name": "ipython",
    "version": 3
   },
   "file_extension": ".py",
   "mimetype": "text/x-python",
   "name": "python",
   "nbconvert_exporter": "python",
   "pygments_lexer": "ipython3",
   "version": "3.6.6"
  }
 },
 "nbformat": 4,
 "nbformat_minor": 1
}
